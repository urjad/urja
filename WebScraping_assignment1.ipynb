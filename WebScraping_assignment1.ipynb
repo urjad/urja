{
  "nbformat": 4,
  "nbformat_minor": 0,
  "metadata": {
    "colab": {
      "name": "WebScrapind ass1.ipynb",
      "private_outputs": true,
      "provenance": [],
      "collapsed_sections": [],
      "toc_visible": true
    },
    "kernelspec": {
      "name": "python3",
      "display_name": "Python 3"
    },
    "language_info": {
      "name": "python"
    }
  },
  "cells": [
    {
      "cell_type": "markdown",
      "metadata": {
        "id": "e6yk3ocgs8I1"
      },
      "source": [
        "\n",
        "\n",
        "Write a python program to displayall the header tags from ‘en.wikipedia.org/wiki/Main_Page’."
      ]
    },
    {
      "cell_type": "code",
      "metadata": {
        "id": "lDW2a6UGsQ2U"
      },
      "source": [
        "from bs4 import BeautifulSoup\n",
        "import requests\n"
      ],
      "execution_count": null,
      "outputs": []
    },
    {
      "cell_type": "code",
      "metadata": {
        "id": "bsnqq6iks66D"
      },
      "source": [
        "page=requests.get(\"https://en.wikipedia.org/wiki/Main_Page\")\n",
        "page"
      ],
      "execution_count": null,
      "outputs": []
    },
    {
      "cell_type": "code",
      "metadata": {
        "id": "CkoEZ8QxtLO4"
      },
      "source": [
        "page.content"
      ],
      "execution_count": null,
      "outputs": []
    },
    {
      "cell_type": "code",
      "metadata": {
        "id": "nmvtGsActMz5"
      },
      "source": [
        "soup= BeautifulSoup(page.content,'html.parser')\n",
        "soup"
      ],
      "execution_count": null,
      "outputs": []
    },
    {
      "cell_type": "code",
      "metadata": {
        "id": "yuREtEXitOre"
      },
      "source": [
        "print(soup.prettify())"
      ],
      "execution_count": null,
      "outputs": []
    },
    {
      "cell_type": "code",
      "metadata": {
        "id": "bi86M3gttVf6"
      },
      "source": [
        "heading_tags = [\"h1\", \"h2\", \"h3\"]"
      ],
      "execution_count": null,
      "outputs": []
    },
    {
      "cell_type": "code",
      "metadata": {
        "id": "Fwe4DpldtcSH"
      },
      "source": [
        "for tags in soup.find_all(heading_tags):\n",
        "    print(tags.text.strip())"
      ],
      "execution_count": null,
      "outputs": []
    },
    {
      "cell_type": "markdown",
      "metadata": {
        "id": "7uj4zjgh2_JY"
      },
      "source": [
        "Write a python program to display IMDB’s Top rated 100 movies’ data (i.e. Name, IMDB rating, Year of release) and save it in form of a CSV file."
      ]
    },
    {
      "cell_type": "code",
      "metadata": {
        "id": "ncyeqdMstgyy"
      },
      "source": [
        "first_title=soup.find('div',class_=\"title\")\n",
        "first_title"
      ],
      "execution_count": null,
      "outputs": []
    },
    {
      "cell_type": "code",
      "metadata": {
        "id": "OGjEQ-pHu4JE"
      },
      "source": [
        "title=soup.find('div',class_=\"info fleft\")\n",
        "title\n",
        "#<a class=\"title fw500 ellipsis\" href=\"https://www.naukri.com/job-listings-hiring-for-data-analyst-mis-reporting-analyst-bangalore-pharmaceutical-research-associates-india-pvt-ltd-bangalore-bengaluru-2-to-4-years-110521000619?src=jobsearchDesk&amp;sid=16217477899213682&amp;xp=5&amp;px=1\" title=\"Hiring For Data Analyst/ MIS Reporting Analyst - Bangalore\" target=\"_blank\">Hiring For Data Analyst/ MIS Reporting Analyst - Bangalore</a><div class=\"mt-7 companyInfo subheading lh16\"><a href=\"https://www.naukri.com/pharmaceutical-research-associates-india-jobs-careers-1347244\" class=\"subTitle ellipsis fleft\" target=\"_blank\" title=\"PHARMACEUTICAL RESEARCH ASSOCIATES INDIA Pvt Ltd\">PHARMACEUTICAL RESEARCH ASSOCIATES INDIA Pvt Ltd</a><span class=\"starRating fleft dot\" title=\"Powered by Ambition Box\">4.2<i class=\"naukicon naukicon-saved ml-5 fright\"></i></span><a class=\"reviewsCount ml-5 fleft blue-text \" href=\"https://www.ambitionbox.com/reviews/pra-health-sciences-reviews?utm_campaign=srp_ratings&amp;utm_medium=desktop&amp;utm_source=naukri\" target=\"_blank\" title=\"Powered by Ambition Box\">(18 Reviews)</a></div><ul class=\"mt-7\"><li class=\"fleft grey-text br2 placeHolderLi experience\"><i class=\"fleft icon-16 lh16 mr-4 naukicon naukicon-experience\"></i><span title=\"2-4 Yrs\" class=\"ellipsis fleft fs12 lh16\">2-4 Yrs</span></li><li class=\"fleft grey-text br2 placeHolderLi salary\"><i class=\"fleft icon-16 lh16 mr-4 naukicon naukicon-rupee\"></i><span title=\"Not disclosed\" class=\"ellipsis fleft fs12 lh16\">Not disclosed</span></li><li class=\"fleft grey-text br2 placeHolderLi location\"><i class=\"fleft icon-16 lh16 mr-4 naukicon naukicon-location\"></i><span title=\"Bangalore/Bengaluru\" class=\"ellipsis fleft fs12 lh16\">Bangalore/Bengaluru</span></li></ul>"
      ],
      "execution_count": null,
      "outputs": []
    },
    {
      "cell_type": "code",
      "metadata": {
        "id": "oJMN0n3z0Avi"
      },
      "source": [
        "page=requests.get(\"https://www.imdb.com/search/title/?groups=top_100&sort=user_rating,desc\")\n",
        "page.content"
      ],
      "execution_count": null,
      "outputs": []
    },
    {
      "cell_type": "code",
      "metadata": {
        "id": "_8_W9jJn3WO7"
      },
      "source": [
        "page"
      ],
      "execution_count": null,
      "outputs": []
    },
    {
      "cell_type": "code",
      "metadata": {
        "id": "Pcs4bEW53aNf"
      },
      "source": [
        "soup=BeautifulSoup(page.content)\n",
        "soup"
      ],
      "execution_count": null,
      "outputs": []
    },
    {
      "cell_type": "code",
      "metadata": {
        "id": "TD9v4KnX3f5b"
      },
      "source": [
        "print(soup.prettify())"
      ],
      "execution_count": null,
      "outputs": []
    },
    {
      "cell_type": "code",
      "metadata": {
        "id": "04ZvUCGA3ijv"
      },
      "source": [
        "first_movie=soup.find('h3',class_=\"lister-item-header\");\n",
        "first_movie"
      ],
      "execution_count": null,
      "outputs": []
    },
    {
      "cell_type": "code",
      "metadata": {
        "id": "Gxox2Mu-4U59"
      },
      "source": [
        "first_movie.text"
      ],
      "execution_count": null,
      "outputs": []
    },
    {
      "cell_type": "code",
      "metadata": {
        "id": "xJtVV7jE4Ysh"
      },
      "source": [
        "first_movie.text.replace('\\n',\"\")"
      ],
      "execution_count": null,
      "outputs": []
    },
    {
      "cell_type": "code",
      "metadata": {
        "id": "IRZFOflb4m_Q"
      },
      "source": [
        "all_movies=soup.find_all('h3',class_=\"lister-item-header\")\n",
        "all_movies"
      ],
      "execution_count": null,
      "outputs": []
    },
    {
      "cell_type": "code",
      "metadata": {
        "id": "BWN4FZoc48BB"
      },
      "source": [
        "movies=[];\n",
        "for i in all_movies:\n",
        "  movies.append(i.text.replace(\"\\n\",\"\"))\n",
        "\n",
        "movies"
      ],
      "execution_count": null,
      "outputs": []
    },
    {
      "cell_type": "code",
      "metadata": {
        "id": "lpL2etuZ5j0Y"
      },
      "source": [
        "page=requests.get(\"https://www.imdb.com/search/title/?groups=top_100&sort=user_rating,desc&start=51&ref_=adv_nxt\")\n",
        "page.content"
      ],
      "execution_count": null,
      "outputs": []
    },
    {
      "cell_type": "code",
      "metadata": {
        "id": "tUOKCj7m5xMM"
      },
      "source": [
        "soup=BeautifulSoup(page.content)"
      ],
      "execution_count": null,
      "outputs": []
    },
    {
      "cell_type": "code",
      "metadata": {
        "id": "LB_vzGWQ556E"
      },
      "source": [
        "all_movies=soup.find_all('h3',class_=\"lister-item-header\")\n",
        "all_movies"
      ],
      "execution_count": null,
      "outputs": []
    },
    {
      "cell_type": "code",
      "metadata": {
        "id": "mdMeO8DK5-E0"
      },
      "source": [
        "for i in all_movies:\n",
        "  movies.append(i.text.replace(\"\\n\",\"\"))\n",
        "\n",
        "movies"
      ],
      "execution_count": null,
      "outputs": []
    },
    {
      "cell_type": "code",
      "metadata": {
        "id": "zV0XcDkS-3uF"
      },
      "source": [
        "# saving the dataframe\n",
        "import pandas as pd\n",
        "df=pd.DataFrame({})\n",
        "df['Movie_title']=movies\n",
        "df.to_csv('file1.csv')"
      ],
      "execution_count": null,
      "outputs": []
    },
    {
      "cell_type": "markdown",
      "metadata": {
        "id": "TdSbSdlu5eOA"
      },
      "source": [
        "Write a python program to display IMDB’s Top rated 100 Indian movies’ data (i.e. Name, IMDB rating, Year of release) and save it in form of a CSV file."
      ]
    },
    {
      "cell_type": "code",
      "metadata": {
        "id": "Im9dShxH6I7K"
      },
      "source": [
        "page=requests.get(\"https://www.imdb.com/list/ls009997493/?sort=user_rating,desc&st_dt=&mode=detail&page=1\")\n",
        "page"
      ],
      "execution_count": null,
      "outputs": []
    },
    {
      "cell_type": "code",
      "metadata": {
        "id": "CIY31Vfk6iLP"
      },
      "source": [
        "page.content"
      ],
      "execution_count": null,
      "outputs": []
    },
    {
      "cell_type": "code",
      "metadata": {
        "id": "ZhTEKQR-6jKm"
      },
      "source": [
        "soup=BeautifulSoup(page.content)\n"
      ],
      "execution_count": null,
      "outputs": []
    },
    {
      "cell_type": "code",
      "metadata": {
        "id": "b-aBx9mt6qIj"
      },
      "source": [
        "hindi_movie=soup.find_all('h3',class_=\"lister-item-header\")\n",
        "hindi_movie"
      ],
      "execution_count": null,
      "outputs": []
    },
    {
      "cell_type": "code",
      "metadata": {
        "id": "piyHGd4k7ENr"
      },
      "source": [
        "hindi_movies=[]\n",
        "for i in hindi_movie:\n",
        "  hindi_movies.append(i.text.replace(\"\\n\",\"\"))\n",
        "hindi_movies"
      ],
      "execution_count": null,
      "outputs": []
    },
    {
      "cell_type": "code",
      "metadata": {
        "id": "ovVSOI-l8Ptr"
      },
      "source": [
        "rating=soup.find(\"div\",class_=\"ipl-rating-star small\")\n",
        "str(rating)\n",
        "rating"
      ],
      "execution_count": null,
      "outputs": []
    },
    {
      "cell_type": "code",
      "metadata": {
        "id": "eDEAsD-n8rT1"
      },
      "source": [
        "rating.text"
      ],
      "execution_count": null,
      "outputs": []
    },
    {
      "cell_type": "code",
      "metadata": {
        "id": "QZyakRx8GjQB"
      },
      "source": [
        "rating=soup.find_all(\"div\",class_=\"ipl-rating-star small\")\n",
        "movie_rating=[]\n",
        "for i in rating:\n",
        "  str(i)\n",
        "  movie_rating.append(i.text.replace(\"\\n\",\"\"))"
      ],
      "execution_count": null,
      "outputs": []
    },
    {
      "cell_type": "code",
      "metadata": {
        "id": "B3JifIH9HWH9"
      },
      "source": [
        "movie_rating"
      ],
      "execution_count": null,
      "outputs": []
    },
    {
      "cell_type": "code",
      "metadata": {
        "id": "fhN_4gv0HX9_"
      },
      "source": [
        "year=soup.find_all(\"span\",class_=\"lister-item-year text-muted unbold\")\n",
        "release_year=[]\n",
        "for i in year:\n",
        "  str(i)\n",
        "  release_year.append(i.text.replace(\"\\n\",\"\"))\n",
        "release_year\n",
        "\n",
        "#<span class=\"lister-item-year text-muted unbold\">(1998)</span>"
      ],
      "execution_count": null,
      "outputs": []
    },
    {
      "cell_type": "code",
      "metadata": {
        "id": "B3VH5lPeLK2Z"
      },
      "source": [
        "len(movie_rating),len(release_year),len(hindi_movies)"
      ],
      "execution_count": null,
      "outputs": []
    },
    {
      "cell_type": "code",
      "metadata": {
        "id": "QOor2VDVHyFB"
      },
      "source": [
        "import pandas as pd\n",
        "df=pd.DataFrame({})\n",
        "df['Movie_title']=hindi_movies\n",
        "df[\"Release_year\"]=release_year\n",
        "df[\"Rating\"]=movie_rating"
      ],
      "execution_count": null,
      "outputs": []
    },
    {
      "cell_type": "code",
      "metadata": {
        "id": "Bm34eeEaLkqi"
      },
      "source": [
        "df['Movie_title']=hindi_movies\n",
        "df[\"Release_year\"]=release_year\n",
        "df[\"Rating\"]=movie_rating"
      ],
      "execution_count": null,
      "outputs": []
    },
    {
      "cell_type": "code",
      "metadata": {
        "id": "C_bUb1XAMFoH"
      },
      "source": [
        "df.head()"
      ],
      "execution_count": null,
      "outputs": []
    },
    {
      "cell_type": "code",
      "metadata": {
        "id": "PmSQ2zXdMGz2"
      },
      "source": [
        "# saving the dataframe\n",
        "df.to_csv('Hindi_movies.csv')"
      ],
      "execution_count": null,
      "outputs": []
    },
    {
      "cell_type": "markdown",
      "metadata": {
        "id": "PKu71ZFh_1ev"
      },
      "source": [
        ""
      ]
    },
    {
      "cell_type": "markdown",
      "metadata": {
        "id": "1-0EZIlm_3Bc"
      },
      "source": [
        "# 4.Write a python program to scrap book name, author name, genre and book review of any 5 books from ‘www.bookpage.com’\n"
      ]
    },
    {
      "cell_type": "code",
      "metadata": {
        "id": "LBVgTke1-hVV"
      },
      "source": [
        "page=requests.get(\"https://bookpage.com/reviews/\")\n",
        "soup=BeautifulSoup(page.content)"
      ],
      "execution_count": null,
      "outputs": []
    },
    {
      "cell_type": "code",
      "metadata": {
        "id": "A7XJ53nJAhfB"
      },
      "source": [
        "book_n=soup.find_all('h4',class_=\"italic\")\n",
        "book_name=[]\n",
        "for i in book_n:\n",
        "  book_name.append(i.text.replace(\"\\n\",\"\").replace('★',\"\"))\n",
        "book_name=book_name[:5]\n",
        "book_name\n"
      ],
      "execution_count": null,
      "outputs": []
    },
    {
      "cell_type": "code",
      "metadata": {
        "id": "Oiqxk2LtA3X-"
      },
      "source": [
        "author_n=soup.find_all('p',class_=\"sans bold\")\n",
        "author_name=[]\n",
        "for i in author_n:\n",
        "  author_name.append(i.text.replace(\"\\n\",\"\"))\n",
        "author_name=author_name[:5]\n",
        "author_name"
      ],
      "execution_count": null,
      "outputs": []
    },
    {
      "cell_type": "code",
      "metadata": {
        "id": "qdlfDcKOaiyZ"
      },
      "source": [
        "genre_n=soup.find_all('p',class_=\"genre-links hidden-phone\")\n",
        "genre=[]\n",
        "for i in author_n:\n",
        "  genre.append(i.text.replace(\"\\n\",\"\"))\n",
        "genre=genre[:5]\n",
        "genre\n",
        "\n"
      ],
      "execution_count": null,
      "outputs": []
    },
    {
      "cell_type": "code",
      "metadata": {
        "id": "oimppxaGeAuD"
      },
      "source": [
        "books=pd.DataFrame({})\n",
        "books[\"Book Name\"]=book_name[:5]\n",
        "books[\"Author\"]=author_name[:5]\n",
        "books[\"Genre\"]=genre[:5]\n",
        "books[\"Review\"]=review[:5]\n",
        "books"
      ],
      "execution_count": null,
      "outputs": []
    },
    {
      "cell_type": "markdown",
      "metadata": {
        "id": "-p3NDBTgCwwk"
      },
      "source": [
        "# 5.Write a python program to scrape cricket rankings from ‘www.icc-cricket.com’. You have to scrape:i)Top 10 ODI teams in men’s cricket along with the records for matches, points and rating. ii)Top 10 ODI Batsmen in men along with the records of their team and rating. iii)Top 10 ODI bowlers along with the records of their team and rating"
      ]
    },
    {
      "cell_type": "code",
      "metadata": {
        "id": "GS-1PGrTB4Jl"
      },
      "source": [
        "page5=requests.get(\"https://www.icc-cricket.com/rankings/mens/team-rankings/odi\")\n",
        "soup5=BeautifulSoup(page5.content)"
      ],
      "execution_count": null,
      "outputs": []
    },
    {
      "cell_type": "code",
      "metadata": {
        "id": "7qJ_XyOte3kL"
      },
      "source": [
        "team=soup5.find('span',class_=\"u-hide-phablet\")\n",
        "team.text"
      ],
      "execution_count": null,
      "outputs": []
    },
    {
      "cell_type": "code",
      "metadata": {
        "id": "Zx7Dmw93fRTo"
      },
      "source": [
        "match_n=soup5.find_all('td',class_=\"rankings-block__banner--matches\")\n",
        "match=[]\n",
        "for i in match_n:\n",
        "  match.append(i.text.replace(\"\\n\",\"\"))  \n",
        "match"
      ],
      "execution_count": null,
      "outputs": []
    },
    {
      "cell_type": "code",
      "metadata": {
        "id": "mfL0N2Bmft9g"
      },
      "source": [
        "team_n=soup5.find_all('span',class_=\"u-hide-phablet\")\n",
        "match_n=soup5.find_all('td',class_=\"table-body__cell u-center-text\")\n",
        "points_n=soup5.find_all('td',class_=\"table-body__cell u-center-text\")\n",
        "rating_n=soup5.find_all('td',class_=\"rankings-block__banner--rating u-text-right\")\n",
        "team=[]\n",
        "matches=[]\n",
        "points=[]\n",
        "rating=[]\n",
        "new_list = [] #empty list\n",
        "for i in team_n:\n",
        "  team.append(i.text.replace(\"\\n\",\"\"))\n",
        "team=team[:20]\n",
        "print(team)\n",
        "print(len(team))\n",
        "\n",
        "'''cricket=pd.DataFrame({})\n",
        "cricket[\"team\"]=team\n",
        "cricket[\"match\"]=match\n",
        "cricket[\"points\"]=points\n",
        "cricket[\"rating\"]=rating\n",
        "cricket'''"
      ],
      "execution_count": null,
      "outputs": []
    },
    {
      "cell_type": "code",
      "metadata": {
        "id": "Tv4VFWaQh9b1"
      },
      "source": [
        "for i in range(0,len(new_list)-1,2):\n",
        "    matches.append(new_list[i]) # other teams matches\n",
        "    points.append(new_list[i+1]) # other teams points\n",
        "len(matches),len(points)"
      ],
      "execution_count": null,
      "outputs": []
    },
    {
      "cell_type": "code",
      "metadata": {
        "id": "uKal4zCfjL1j"
      },
      "source": [
        "for i in range(0,len(new_list)-1,2):\n",
        "    matches.append(new_list[i]) # other teams matches\n",
        "    points.append(new_list[i+1]) # other teams points\n",
        "for i in rating_n:\n",
        "  rating.append(i.text.replace(\"\\n\",\"\"))"
      ],
      "execution_count": null,
      "outputs": []
    },
    {
      "cell_type": "markdown",
      "metadata": {
        "id": "UQQ2VOTkxDWE"
      },
      "source": [
        "# 7.Write  a  python  program  to  scrape  details  of  all  the  mobile  phones  under  Rs.  20,000 listed on Amazon.in. The scraped data should include Product Name, Price, Image URL and Average Rating."
      ]
    },
    {
      "cell_type": "code",
      "metadata": {
        "id": "RxH02VHAxHnk"
      },
      "source": [
        "page6=requests.get(\"https://www.amazon.in/s?k=Mobile+phones+under+20000&ref=nb_sb_noss_2\")\n",
        "soup6=BeautifulSoup(page6.content)"
      ],
      "execution_count": null,
      "outputs": []
    },
    {
      "cell_type": "code",
      "metadata": {
        "id": "nqmdzqFt0W8p"
      },
      "source": [
        "page6.content"
      ],
      "execution_count": null,
      "outputs": []
    },
    {
      "cell_type": "code",
      "metadata": {
        "id": "LXXsnqpV0hro"
      },
      "source": [
        "product=soup6.find('span',class_=\"a-size-medium a-color-base a-text-normal\")\n",
        "product\n",
        "#a-size-medium a-color-base a-text-normal"
      ],
      "execution_count": null,
      "outputs": []
    },
    {
      "cell_type": "code",
      "metadata": {
        "id": "uMTA2nrAzkGn"
      },
      "source": [
        "product_n=soup6.find_all('h2',class_=\"a-size-mini a-spacing-none a-color-base s-line-clamp-4\")\n",
        "product_n=[]\n",
        "for i in product_n:\n",
        "  product.append(i.text.replace(\"\\n\",\"\"))\n",
        "product"
      ],
      "execution_count": null,
      "outputs": []
    },
    {
      "cell_type": "code",
      "metadata": {
        "id": "OGNjPD9n0C8D"
      },
      "source": [
        ""
      ],
      "execution_count": null,
      "outputs": []
    }
  ]
}