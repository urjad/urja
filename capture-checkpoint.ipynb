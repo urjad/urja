{
 "cells": [
  {
   "cell_type": "code",
   "execution_count": 1,
   "metadata": {},
   "outputs": [],
   "source": [
    "import cv2\n",
    "import numpy as np"
   ]
  },
  {
   "cell_type": "code",
   "execution_count": 2,
   "metadata": {},
   "outputs": [],
   "source": [
    "cap=cv2.VideoCapture(0)"
   ]
  },
  {
   "cell_type": "code",
   "execution_count": null,
   "metadata": {},
   "outputs": [],
   "source": [
    "while True:\n",
    "\t_,frame=cap.read()\n",
    "\thsv_frame= cv2.cvtColor(frame,cv2.COLOR_BGR2HSV)\n",
    "\t#red\n",
    "\tlow_red= np.array([161,155,84])\n",
    "\thigh_red= np.array([179,255,255])\n",
    "    #blue\n",
    "\thigh_blue= np.array([130,255,255])\n",
    "\tlow_blue=np.array([94, 80, 2])\n",
    "     #every olour except white\n",
    "\tlow=np.array([0,42,0])\n",
    "\thigh=np.array([179,255,255])\n",
    "    #green\n",
    "\tlow_green= np.array([65,60,60])\n",
    "\thigh_green=np.array([80,255,255])\n",
    "\n",
    "\tred_mask=cv2.inRange(hsv_frame,low_red,high_red)\n",
    "\tblue_mask=cv2.inRange(hsv_frame,low_blue,high_blue)\n",
    "\tgreen_mask=cv2.inRange(hsv_frame,low_green,high_green)\n",
    "\tex_white_mask=cv2.inRange(hsv_frame,low,high)\n",
    "    \n",
    "    \n",
    "\tred = cv2.bitwise_and(frame,frame,mask=red_mask)\n",
    "\tblue= cv2.bitwise_and(frame,frame,mask=blue_mask)    \n",
    "\tgreen=cv2.bitwise_and(frame,frame,mask=green_mask)\n",
    "\tex_white=cv2.bitwise_and(frame,frame,mask=ex_white_mask)\n",
    "    \n",
    "\tcv2.imshow(\"Frame\",frame)\n",
    "\tcv2.imshow(\"Red mask\", red)\n",
    "\tcv2.imshow(\"Blue mask\",blue)\n",
    "\tcv2.imshow(\"Green mask\",green)\n",
    "\tcv2.imshow(\"Except white\",ex_white)\n",
    "\tkey=cv2.waitKey(1)\n",
    "\t \n",
    "\tif key== 27:\n",
    "\t\tbreak\n",
    "\n",
    "cap.release()"
   ]
  },
  {
   "cell_type": "code",
   "execution_count": null,
   "metadata": {},
   "outputs": [],
   "source": []
  }
 ],
 "metadata": {
  "kernelspec": {
   "display_name": "Python 3",
   "language": "python",
   "name": "python3"
  },
  "language_info": {
   "codemirror_mode": {
    "name": "ipython",
    "version": 3
   },
   "file_extension": ".py",
   "mimetype": "text/x-python",
   "name": "python",
   "nbconvert_exporter": "python",
   "pygments_lexer": "ipython3",
   "version": "3.7.6"
  }
 },
 "nbformat": 4,
 "nbformat_minor": 4
}
